{
 "cells": [
  {
   "cell_type": "code",
   "execution_count": 1,
   "id": "af4235c3-5040-493f-b155-5699999baaa5",
   "metadata": {},
   "outputs": [],
   "source": [
    "#hey there "
   ]
  },
  {
   "cell_type": "code",
   "execution_count": 2,
   "id": "883e4920-6f4f-4fec-bd40-bd83c7b6750a",
   "metadata": {},
   "outputs": [],
   "source": [
    "import numpy as np\n",
    "import pandas as pd\n",
    "import matplotlib.pyplot as plt\n",
    "import seaborn as sns\n",
    "import nltk\n",
    "import warnings\n",
    "warnings.filterwarnings(\"ignore\")"
   ]
  },
  {
   "cell_type": "code",
   "execution_count": 3,
   "id": "65934e62-8bce-4511-b34c-34aecacc1063",
   "metadata": {},
   "outputs": [],
   "source": [
    "%matplotlib inline"
   ]
  },
  {
   "cell_type": "code",
   "execution_count": 4,
   "id": "4e4a98bf-2022-4adf-99ca-b532a36cfe8d",
   "metadata": {},
   "outputs": [],
   "source": [
    "lang_detection = pd.read_csv(\"Language Detection.csv\")"
   ]
  },
  {
   "cell_type": "code",
   "execution_count": 5,
   "id": "d69dc74d-5037-41f6-84f0-2e933e618cdc",
   "metadata": {},
   "outputs": [
    {
     "data": {
      "text/html": [
       "<div>\n",
       "<style scoped>\n",
       "    .dataframe tbody tr th:only-of-type {\n",
       "        vertical-align: middle;\n",
       "    }\n",
       "\n",
       "    .dataframe tbody tr th {\n",
       "        vertical-align: top;\n",
       "    }\n",
       "\n",
       "    .dataframe thead th {\n",
       "        text-align: right;\n",
       "    }\n",
       "</style>\n",
       "<table border=\"1\" class=\"dataframe\">\n",
       "  <thead>\n",
       "    <tr style=\"text-align: right;\">\n",
       "      <th></th>\n",
       "      <th>Text</th>\n",
       "      <th>Language</th>\n",
       "    </tr>\n",
       "  </thead>\n",
       "  <tbody>\n",
       "    <tr>\n",
       "      <th>0</th>\n",
       "      <td>Nature, in the broadest sense, is the natural...</td>\n",
       "      <td>English</td>\n",
       "    </tr>\n",
       "    <tr>\n",
       "      <th>1</th>\n",
       "      <td>\"Nature\" can refer to the phenomena of the phy...</td>\n",
       "      <td>English</td>\n",
       "    </tr>\n",
       "    <tr>\n",
       "      <th>2</th>\n",
       "      <td>The study of nature is a large, if not the onl...</td>\n",
       "      <td>English</td>\n",
       "    </tr>\n",
       "    <tr>\n",
       "      <th>3</th>\n",
       "      <td>Although humans are part of nature, human acti...</td>\n",
       "      <td>English</td>\n",
       "    </tr>\n",
       "    <tr>\n",
       "      <th>4</th>\n",
       "      <td>[1] The word nature is borrowed from the Old F...</td>\n",
       "      <td>English</td>\n",
       "    </tr>\n",
       "  </tbody>\n",
       "</table>\n",
       "</div>"
      ],
      "text/plain": [
       "                                                Text Language\n",
       "0   Nature, in the broadest sense, is the natural...  English\n",
       "1  \"Nature\" can refer to the phenomena of the phy...  English\n",
       "2  The study of nature is a large, if not the onl...  English\n",
       "3  Although humans are part of nature, human acti...  English\n",
       "4  [1] The word nature is borrowed from the Old F...  English"
      ]
     },
     "execution_count": 5,
     "metadata": {},
     "output_type": "execute_result"
    }
   ],
   "source": [
    "lang_detection.head()"
   ]
  },
  {
   "cell_type": "code",
   "execution_count": 6,
   "id": "57b19aaa-998a-4357-8a5b-65b3a08d7bd2",
   "metadata": {},
   "outputs": [
    {
     "name": "stdout",
     "output_type": "stream",
     "text": [
      "<class 'pandas.core.frame.DataFrame'>\n",
      "RangeIndex: 10337 entries, 0 to 10336\n",
      "Data columns (total 2 columns):\n",
      " #   Column    Non-Null Count  Dtype \n",
      "---  ------    --------------  ----- \n",
      " 0   Text      10337 non-null  object\n",
      " 1   Language  10337 non-null  object\n",
      "dtypes: object(2)\n",
      "memory usage: 161.6+ KB\n"
     ]
    }
   ],
   "source": [
    "lang_detection.info()"
   ]
  },
  {
   "cell_type": "code",
   "execution_count": 7,
   "id": "ef8a159e-6205-421e-b848-e67ae2a241dd",
   "metadata": {},
   "outputs": [
    {
     "data": {
      "text/plain": [
       "Text        0\n",
       "Language    0\n",
       "dtype: int64"
      ]
     },
     "execution_count": 7,
     "metadata": {},
     "output_type": "execute_result"
    }
   ],
   "source": [
    "lang_detection.isnull().sum()"
   ]
  },
  {
   "cell_type": "code",
   "execution_count": 8,
   "id": "80bf0560-8105-421f-beee-d74c3908d24b",
   "metadata": {},
   "outputs": [
    {
     "data": {
      "text/plain": [
       "Language\n",
       "English       1385\n",
       "French        1014\n",
       "Spanish        819\n",
       "Portugeese     739\n",
       "Italian        698\n",
       "Russian        692\n",
       "Sweedish       676\n",
       "Malayalam      594\n",
       "Dutch          546\n",
       "Arabic         536\n",
       "Turkish        474\n",
       "German         470\n",
       "Tamil          469\n",
       "Danish         428\n",
       "Kannada        369\n",
       "Greek          365\n",
       "Hindi           63\n",
       "Name: count, dtype: int64"
      ]
     },
     "execution_count": 8,
     "metadata": {},
     "output_type": "execute_result"
    }
   ],
   "source": [
    "lang_detection[\"Language\"].value_counts()"
   ]
  },
  {
   "cell_type": "code",
   "execution_count": 9,
   "id": "41a49e68-a25a-41ed-afdb-139cb7e20dfc",
   "metadata": {},
   "outputs": [
    {
     "data": {
      "text/plain": [
       "66"
      ]
     },
     "execution_count": 9,
     "metadata": {},
     "output_type": "execute_result"
    }
   ],
   "source": [
    "lang_detection.duplicated().sum()"
   ]
  },
  {
   "cell_type": "code",
   "execution_count": 10,
   "id": "6b5349f8-78dc-469f-b949-e990f03ba53a",
   "metadata": {},
   "outputs": [],
   "source": [
    "lang_detection.drop_duplicates(inplace = True )"
   ]
  },
  {
   "cell_type": "code",
   "execution_count": 11,
   "id": "9ba4a8ec",
   "metadata": {},
   "outputs": [],
   "source": [
    "lang_detection.drop(lang_detection[lang_detection['Language'].isin(['Malayalam','Kannada','Tamil','Arabic'])].index,inplace=True)"
   ]
  },
  {
   "cell_type": "code",
   "execution_count": 12,
   "id": "99421821-5c61-4f3d-99c8-d7adc84b37ae",
   "metadata": {},
   "outputs": [
    {
     "name": "stdout",
     "output_type": "stream",
     "text": [
      "<class 'pandas.core.frame.DataFrame'>\n",
      "Index: 8318 entries, 0 to 9967\n",
      "Data columns (total 2 columns):\n",
      " #   Column    Non-Null Count  Dtype \n",
      "---  ------    --------------  ----- \n",
      " 0   Text      8318 non-null   object\n",
      " 1   Language  8318 non-null   object\n",
      "dtypes: object(2)\n",
      "memory usage: 195.0+ KB\n"
     ]
    }
   ],
   "source": [
    "lang_detection.info()"
   ]
  },
  {
   "cell_type": "code",
   "execution_count": 13,
   "id": "1008e279-82a7-40dd-b8f8-0b388e81f546",
   "metadata": {},
   "outputs": [],
   "source": [
    "#now lets build a text processing pipeline"
   ]
  },
  {
   "cell_type": "code",
   "execution_count": 14,
   "id": "4ea01f63-17d5-431e-b7bc-2c4c96bdf46b",
   "metadata": {},
   "outputs": [],
   "source": [
    "from nltk.tokenize import word_tokenize,sent_tokenize\n",
    "from nltk.corpus import stopwords\n",
    "from nltk.stem import WordNetLemmatizer,PorterStemmer\n",
    "from nltk import pos_tag\n",
    "from nltk import ne_chunk\n",
    "from string import punctuation"
   ]
  },
  {
   "cell_type": "code",
   "execution_count": 15,
   "id": "0da2095c-9b51-47c4-a6ac-0458c7aef983",
   "metadata": {},
   "outputs": [],
   "source": [
    "#defining a text preprocssing function"
   ]
  },
  {
   "cell_type": "code",
   "execution_count": 16,
   "id": "eb91c526-b3e9-44fc-8e3a-c3893393d0e3",
   "metadata": {},
   "outputs": [],
   "source": [
    "available_languages = stopwords.fileids()\n",
    "all_stopwords = set()\n",
    "for language in available_languages:\n",
    "    all_stopwords.update(stopwords.words(language))"
   ]
  },
  {
   "cell_type": "code",
   "execution_count": 17,
   "id": "7f9292bf-9edb-4489-a4ea-e52d14ab74e5",
   "metadata": {},
   "outputs": [],
   "source": [
    "def text_preproccess(text):\n",
    "    punct = list(punctuation)\n",
    "    token_remove = all_stopwords.union(set(punct))\n",
    "    sent_text = sent_tokenize(text)\n",
    "    clean_tokens = []\n",
    "    lemma = WordNetLemmatizer()\n",
    "    for sentence in sent_text:\n",
    "       word_tokens = word_tokenize(sentence)\n",
    "       pos = pos_tag(word_tokens)\n",
    "       name_entity = ne_chunk(pos)\n",
    "       tokens = [token for token in word_tokens if token.isalpha()]\n",
    "       clean_tokens.extend([lemma.lemmatize(word.lower()) for word in tokens if word not in token_remove])\n",
    "    return \" \".join([token for token in clean_tokens])"
   ]
  },
  {
   "cell_type": "code",
   "execution_count": 18,
   "id": "c0ae553c-c781-4beb-b4d6-75033b65301a",
   "metadata": {},
   "outputs": [
    {
     "data": {
      "text/html": [
       "<div>\n",
       "<style scoped>\n",
       "    .dataframe tbody tr th:only-of-type {\n",
       "        vertical-align: middle;\n",
       "    }\n",
       "\n",
       "    .dataframe tbody tr th {\n",
       "        vertical-align: top;\n",
       "    }\n",
       "\n",
       "    .dataframe thead th {\n",
       "        text-align: right;\n",
       "    }\n",
       "</style>\n",
       "<table border=\"1\" class=\"dataframe\">\n",
       "  <thead>\n",
       "    <tr style=\"text-align: right;\">\n",
       "      <th></th>\n",
       "      <th>Text</th>\n",
       "      <th>Language</th>\n",
       "    </tr>\n",
       "  </thead>\n",
       "  <tbody>\n",
       "    <tr>\n",
       "      <th>0</th>\n",
       "      <td>Nature, in the broadest sense, is the natural...</td>\n",
       "      <td>English</td>\n",
       "    </tr>\n",
       "    <tr>\n",
       "      <th>1</th>\n",
       "      <td>\"Nature\" can refer to the phenomena of the phy...</td>\n",
       "      <td>English</td>\n",
       "    </tr>\n",
       "    <tr>\n",
       "      <th>2</th>\n",
       "      <td>The study of nature is a large, if not the onl...</td>\n",
       "      <td>English</td>\n",
       "    </tr>\n",
       "    <tr>\n",
       "      <th>3</th>\n",
       "      <td>Although humans are part of nature, human acti...</td>\n",
       "      <td>English</td>\n",
       "    </tr>\n",
       "    <tr>\n",
       "      <th>4</th>\n",
       "      <td>[1] The word nature is borrowed from the Old F...</td>\n",
       "      <td>English</td>\n",
       "    </tr>\n",
       "  </tbody>\n",
       "</table>\n",
       "</div>"
      ],
      "text/plain": [
       "                                                Text Language\n",
       "0   Nature, in the broadest sense, is the natural...  English\n",
       "1  \"Nature\" can refer to the phenomena of the phy...  English\n",
       "2  The study of nature is a large, if not the onl...  English\n",
       "3  Although humans are part of nature, human acti...  English\n",
       "4  [1] The word nature is borrowed from the Old F...  English"
      ]
     },
     "execution_count": 18,
     "metadata": {},
     "output_type": "execute_result"
    }
   ],
   "source": [
    "lang_detection.head()"
   ]
  },
  {
   "cell_type": "code",
   "execution_count": 19,
   "id": "061e459b-a0f1-40b6-adb0-dd83ccb67f92",
   "metadata": {},
   "outputs": [
    {
     "data": {
      "text/plain": [
       "0    nature broadest natural physical material worl...\n",
       "1    nature refer phenomenon physical world life ge...\n",
       "2                  the study nature large part science\n",
       "3    although human part nature human activity unde...\n",
       "4    the word nature borrowed old french nature der...\n",
       "Name: Text, dtype: object"
      ]
     },
     "execution_count": 19,
     "metadata": {},
     "output_type": "execute_result"
    }
   ],
   "source": [
    "lang_detection[\"Text\"].head(5).apply(text_preproccess)"
   ]
  },
  {
   "cell_type": "code",
   "execution_count": 20,
   "id": "6b23e1a7-2a13-42aa-963f-34e12667e0c2",
   "metadata": {},
   "outputs": [],
   "source": [
    "lang_detection[\"Text\"] = lang_detection[\"Text\"].apply(text_preproccess)"
   ]
  },
  {
   "cell_type": "code",
   "execution_count": 21,
   "id": "85d4d62a",
   "metadata": {},
   "outputs": [
    {
     "data": {
      "text/html": [
       "<div>\n",
       "<style scoped>\n",
       "    .dataframe tbody tr th:only-of-type {\n",
       "        vertical-align: middle;\n",
       "    }\n",
       "\n",
       "    .dataframe tbody tr th {\n",
       "        vertical-align: top;\n",
       "    }\n",
       "\n",
       "    .dataframe thead th {\n",
       "        text-align: right;\n",
       "    }\n",
       "</style>\n",
       "<table border=\"1\" class=\"dataframe\">\n",
       "  <thead>\n",
       "    <tr style=\"text-align: right;\">\n",
       "      <th></th>\n",
       "      <th>Text</th>\n",
       "      <th>Language</th>\n",
       "    </tr>\n",
       "  </thead>\n",
       "  <tbody>\n",
       "    <tr>\n",
       "      <th>0</th>\n",
       "      <td>nature broadest natural physical material worl...</td>\n",
       "      <td>English</td>\n",
       "    </tr>\n",
       "    <tr>\n",
       "      <th>1</th>\n",
       "      <td>nature refer phenomenon physical world life ge...</td>\n",
       "      <td>English</td>\n",
       "    </tr>\n",
       "    <tr>\n",
       "      <th>2</th>\n",
       "      <td>the study nature large part science</td>\n",
       "      <td>English</td>\n",
       "    </tr>\n",
       "    <tr>\n",
       "      <th>3</th>\n",
       "      <td>although human part nature human activity unde...</td>\n",
       "      <td>English</td>\n",
       "    </tr>\n",
       "    <tr>\n",
       "      <th>4</th>\n",
       "      <td>the word nature borrowed old french nature der...</td>\n",
       "      <td>English</td>\n",
       "    </tr>\n",
       "  </tbody>\n",
       "</table>\n",
       "</div>"
      ],
      "text/plain": [
       "                                                Text Language\n",
       "0  nature broadest natural physical material worl...  English\n",
       "1  nature refer phenomenon physical world life ge...  English\n",
       "2                the study nature large part science  English\n",
       "3  although human part nature human activity unde...  English\n",
       "4  the word nature borrowed old french nature der...  English"
      ]
     },
     "execution_count": 21,
     "metadata": {},
     "output_type": "execute_result"
    }
   ],
   "source": [
    "lang_detection.head()"
   ]
  },
  {
   "cell_type": "code",
   "execution_count": 22,
   "id": "04a23f89",
   "metadata": {},
   "outputs": [],
   "source": [
    "lang_detection.to_csv('cleaned_language_detection.csv',index=False)"
   ]
  },
  {
   "cell_type": "code",
   "execution_count": null,
   "id": "3ecceda6-7dce-4d02-bb2f-24884827bac3",
   "metadata": {},
   "outputs": [],
   "source": []
  }
 ],
 "metadata": {
  "kernelspec": {
   "display_name": "Python 3 (ipykernel)",
   "language": "python",
   "name": "python3"
  },
  "language_info": {
   "codemirror_mode": {
    "name": "ipython",
    "version": 3
   },
   "file_extension": ".py",
   "mimetype": "text/x-python",
   "name": "python",
   "nbconvert_exporter": "python",
   "pygments_lexer": "ipython3",
   "version": "3.11.5"
  }
 },
 "nbformat": 4,
 "nbformat_minor": 5
}
